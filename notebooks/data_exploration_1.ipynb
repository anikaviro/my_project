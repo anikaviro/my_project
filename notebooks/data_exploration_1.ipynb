{
 "cells": [
  {
   "cell_type": "markdown",
   "id": "1876afb4",
   "metadata": {},
   "source": [
    "## Questions and data exploration"
   ]
  },
  {
   "cell_type": "code",
   "execution_count": 3,
   "id": "fffd3e19",
   "metadata": {},
   "outputs": [
    {
     "data": {
      "text/html": [
       "<div>\n",
       "<style scoped>\n",
       "    .dataframe tbody tr th:only-of-type {\n",
       "        vertical-align: middle;\n",
       "    }\n",
       "\n",
       "    .dataframe tbody tr th {\n",
       "        vertical-align: top;\n",
       "    }\n",
       "\n",
       "    .dataframe thead th {\n",
       "        text-align: right;\n",
       "    }\n",
       "</style>\n",
       "<table border=\"1\" class=\"dataframe\">\n",
       "  <thead>\n",
       "    <tr style=\"text-align: right;\">\n",
       "      <th></th>\n",
       "      <th>Unnamed: 0</th>\n",
       "      <th>location</th>\n",
       "      <th>plastic_end_of_life_fates</th>\n",
       "      <th>year</th>\n",
       "      <th>value</th>\n",
       "    </tr>\n",
       "  </thead>\n",
       "  <tbody>\n",
       "    <tr>\n",
       "      <th>0</th>\n",
       "      <td>0</td>\n",
       "      <td>Other OECD America</td>\n",
       "      <td>Littered</td>\n",
       "      <td>2000</td>\n",
       "      <td>0.021844</td>\n",
       "    </tr>\n",
       "    <tr>\n",
       "      <th>1</th>\n",
       "      <td>1</td>\n",
       "      <td>Other OECD America</td>\n",
       "      <td>Littered</td>\n",
       "      <td>2001</td>\n",
       "      <td>0.022556</td>\n",
       "    </tr>\n",
       "    <tr>\n",
       "      <th>2</th>\n",
       "      <td>2</td>\n",
       "      <td>Other OECD America</td>\n",
       "      <td>Littered</td>\n",
       "      <td>2002</td>\n",
       "      <td>0.023735</td>\n",
       "    </tr>\n",
       "    <tr>\n",
       "      <th>3</th>\n",
       "      <td>3</td>\n",
       "      <td>Other OECD America</td>\n",
       "      <td>Littered</td>\n",
       "      <td>2003</td>\n",
       "      <td>0.024734</td>\n",
       "    </tr>\n",
       "    <tr>\n",
       "      <th>4</th>\n",
       "      <td>4</td>\n",
       "      <td>Other OECD America</td>\n",
       "      <td>Littered</td>\n",
       "      <td>2004</td>\n",
       "      <td>0.025961</td>\n",
       "    </tr>\n",
       "  </tbody>\n",
       "</table>\n",
       "</div>"
      ],
      "text/plain": [
       "   Unnamed: 0            location plastic_end_of_life_fates  year     value\n",
       "0           0  Other OECD America                  Littered  2000  0.021844\n",
       "1           1  Other OECD America                  Littered  2001  0.022556\n",
       "2           2  Other OECD America                  Littered  2002  0.023735\n",
       "3           3  Other OECD America                  Littered  2003  0.024734\n",
       "4           4  Other OECD America                  Littered  2004  0.025961"
      ]
     },
     "execution_count": 3,
     "metadata": {},
     "output_type": "execute_result"
    }
   ],
   "source": [
    "import pandas as pd\n",
    "df = pd.read_csv(\"/Users/Ana/Desktop/Ironhack/Week_5/Mid_bootcamp_project/data/clean/cleandata.csv\")\n",
    "df.head()"
   ]
  },
  {
   "cell_type": "code",
   "execution_count": null,
   "id": "606e6911",
   "metadata": {},
   "outputs": [],
   "source": []
  }
 ],
 "metadata": {
  "kernelspec": {
   "display_name": "mid-project",
   "language": "python",
   "name": "mid-project"
  },
  "language_info": {
   "codemirror_mode": {
    "name": "ipython",
    "version": 3
   },
   "file_extension": ".py",
   "mimetype": "text/x-python",
   "name": "python",
   "nbconvert_exporter": "python",
   "pygments_lexer": "ipython3",
   "version": "3.9.13"
  }
 },
 "nbformat": 4,
 "nbformat_minor": 5
}
